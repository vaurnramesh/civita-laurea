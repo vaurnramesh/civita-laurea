{
 "cells": [
  {
   "cell_type": "markdown",
   "metadata": {
    "toc": true
   },
   "source": [
    "<h1>Table of Contents<span class=\"tocSkip\"></span></h1>\n",
    "<div class=\"toc\"><ul class=\"toc-item\"></ul></div>"
   ]
  },
  {
   "cell_type": "code",
   "execution_count": null,
   "metadata": {
    "colab": {
     "base_uri": "https://localhost:8080/"
    },
    "id": "b_XiufCfWm08",
    "outputId": "e3ce4472-0774-49e4-8c7e-28b0949ae4c7"
   },
   "outputs": [
    {
     "name": "stdout",
     "output_type": "stream",
     "text": [
      "Mounted at /content/drive\n"
     ]
    }
   ],
   "source": [
    "from google.colab import drive\n",
    "drive.mount('/content/drive',force_remount=True)"
   ]
  },
  {
   "cell_type": "code",
   "execution_count": null,
   "metadata": {
    "id": "Zq_6eHbHtFwC"
   },
   "outputs": [],
   "source": [
    "#import libraries\n",
    "import cv2\n",
    "import os\n",
    "import numpy as np\n",
    "import pandas as pd\n"
   ]
  },
  {
   "cell_type": "code",
   "execution_count": null,
   "metadata": {
    "id": "vAmr2NcQXN4u"
   },
   "outputs": [],
   "source": [
    "#As each clusters bears some feature ,change the name of the folder to a feature and give the folder's path in the path\n",
    "# For my video tagging, the cluster folders were present in the SampleFolderforTags\n",
    "\n",
    "path='./drive/MyDrive/SampleFolderforTags/'\n",
    "\n",
    "#List of the sub-directories in the folder\n",
    "subdir_names=[x[1] for x in os.walk(path)]\n"
   ]
  },
  {
   "cell_type": "code",
   "execution_count": null,
   "metadata": {
    "id": "AHlCwhHSXOJH"
   },
   "outputs": [],
   "source": [
    "subdir_names = [x for x in subdir_names if x != []] # removing the empty elements of the list"
   ]
  },
  {
   "cell_type": "code",
   "execution_count": null,
   "metadata": {
    "colab": {
     "base_uri": "https://localhost:8080/"
    },
    "id": "WP-nai158vVx",
    "outputId": "aff44c90-baec-42c9-f400-3a16141be4ed"
   },
   "outputs": [
    {
     "name": "stdout",
     "output_type": "stream",
     "text": [
      "[['Beginning', 'DigitalPen (1)', 'Slides_Online', 'DigitalPen']]\n"
     ]
    }
   ],
   "source": [
    "print(subdir_names)"
   ]
  },
  {
   "cell_type": "code",
   "execution_count": null,
   "metadata": {
    "id": "xwDfAN01jWL1"
   },
   "outputs": [],
   "source": [
    "filename=[]\n",
    "features=[]\n",
    "object_data=pd.DataFrame()\n",
    "for i in subdir_names[0]:\n",
    "  read_path=[]\n",
    "  read_path=[file for file in os.listdir(path+\"//\"+i)]\n",
    "  for j in read_path:\n",
    "    filename.append(j)\n",
    "    features.append(i)\n"
   ]
  },
  {
   "cell_type": "code",
   "execution_count": null,
   "metadata": {
    "id": "BdBwH9lq42nq"
   },
   "outputs": [],
   "source": [
    "object_data[\"Filename\"]=filename\n",
    "object_data[\"Feature\"]=features"
   ]
  },
  {
   "cell_type": "code",
   "execution_count": null,
   "metadata": {
    "colab": {
     "base_uri": "https://localhost:8080/"
    },
    "id": "tfyzV0Vl5JfO",
    "outputId": "5afc63e4-d3c6-4e1d-c2ec-32a851071b2c"
   },
   "outputs": [
    {
     "name": "stdout",
     "output_type": "stream",
     "text": [
      "                                              Filename     Feature\n",
      "0    044 Math 1A_1B - Pre-Calculus - Solving a Line...   Beginning\n",
      "1    044 Math 1A_1B - Pre-Calculus - Solving a Line...   Beginning\n",
      "2    044 Math 1A_1B - Pre-Calculus - Solving a Line...   Beginning\n",
      "3    045 Math 1A_1B - Pre-Calculus - Solving a Quad...   Beginning\n",
      "4    045 Math 1A_1B - Pre-Calculus - Solving a Quad...   Beginning\n",
      "..                                                 ...         ...\n",
      "104  043 Math 1A_1B - Pre-Calculus - Solving Ration...  DigitalPen\n",
      "105  043 Math 1A_1B - Pre-Calculus - Solving Ration...  DigitalPen\n",
      "106  043 Math 1A_1B - Pre-Calculus - Solving Ration...  DigitalPen\n",
      "107  043 Math 1A_1B - Pre-Calculus - Solving Ration...  DigitalPen\n",
      "108  043 Math 1A_1B - Pre-Calculus - Solving Ration...  DigitalPen\n",
      "\n",
      "[109 rows x 2 columns]\n"
     ]
    }
   ],
   "source": [
    "print(object_data)"
   ]
  },
  {
   "cell_type": "code",
   "execution_count": null,
   "metadata": {
    "id": "8msJNmNRI_Wh"
   },
   "outputs": [],
   "source": [
    "object_data.to_csv('features.csv') # saving the data file"
   ]
  },
  {
   "cell_type": "code",
   "execution_count": null,
   "metadata": {
    "colab": {
     "base_uri": "https://localhost:8080/",
     "height": 17
    },
    "id": "qcH0UGKrJQTk",
    "outputId": "fdbae436-56b1-4e8b-935b-905a3a32ad35"
   },
   "outputs": [
    {
     "data": {
      "application/javascript": [
       "\n",
       "    async function download(id, filename, size) {\n",
       "      if (!google.colab.kernel.accessAllowed) {\n",
       "        return;\n",
       "      }\n",
       "      const div = document.createElement('div');\n",
       "      const label = document.createElement('label');\n",
       "      label.textContent = `Downloading \"${filename}\": `;\n",
       "      div.appendChild(label);\n",
       "      const progress = document.createElement('progress');\n",
       "      progress.max = size;\n",
       "      div.appendChild(progress);\n",
       "      document.body.appendChild(div);\n",
       "\n",
       "      const buffers = [];\n",
       "      let downloaded = 0;\n",
       "\n",
       "      const channel = await google.colab.kernel.comms.open(id);\n",
       "      // Send a message to notify the kernel that we're ready.\n",
       "      channel.send({})\n",
       "\n",
       "      for await (const message of channel.messages) {\n",
       "        // Send a message to notify the kernel that we're ready.\n",
       "        channel.send({})\n",
       "        if (message.buffers) {\n",
       "          for (const buffer of message.buffers) {\n",
       "            buffers.push(buffer);\n",
       "            downloaded += buffer.byteLength;\n",
       "            progress.value = downloaded;\n",
       "          }\n",
       "        }\n",
       "      }\n",
       "      const blob = new Blob(buffers, {type: 'application/binary'});\n",
       "      const a = document.createElement('a');\n",
       "      a.href = window.URL.createObjectURL(blob);\n",
       "      a.download = filename;\n",
       "      div.appendChild(a);\n",
       "      a.click();\n",
       "      div.remove();\n",
       "    }\n",
       "  "
      ],
      "text/plain": [
       "<IPython.core.display.Javascript object>"
      ]
     },
     "metadata": {
      "tags": []
     },
     "output_type": "display_data"
    },
    {
     "data": {
      "application/javascript": [
       "download(\"download_5a2ccbb9-aed3-48e2-862a-97c19c2d432c\", \"features.csv\", 9792)"
      ],
      "text/plain": [
       "<IPython.core.display.Javascript object>"
      ]
     },
     "metadata": {
      "tags": []
     },
     "output_type": "display_data"
    }
   ],
   "source": [
    "from google.colab import files as fp\n",
    "fp.download('features.csv') #downloading the csv file with feature tagged with each image"
   ]
  }
 ],
 "metadata": {
  "colab": {
   "collapsed_sections": [],
   "name": "Tagging_dataset.ipynb",
   "provenance": []
  },
  "kernelspec": {
   "display_name": "Python 3",
   "language": "python",
   "name": "python3"
  },
  "language_info": {
   "codemirror_mode": {
    "name": "ipython",
    "version": 3
   },
   "file_extension": ".py",
   "mimetype": "text/x-python",
   "name": "python",
   "nbconvert_exporter": "python",
   "pygments_lexer": "ipython3",
   "version": "3.7.4"
  },
  "toc": {
   "base_numbering": 1,
   "nav_menu": {},
   "number_sections": false,
   "sideBar": true,
   "skip_h1_title": true,
   "title_cell": "Table of Contents",
   "title_sidebar": "Contents",
   "toc_cell": true,
   "toc_position": {},
   "toc_section_display": true,
   "toc_window_display": false
  },
  "varInspector": {
   "cols": {
    "lenName": 16,
    "lenType": 16,
    "lenVar": 40
   },
   "kernels_config": {
    "python": {
     "delete_cmd_postfix": "",
     "delete_cmd_prefix": "del ",
     "library": "var_list.py",
     "varRefreshCmd": "print(var_dic_list())"
    },
    "r": {
     "delete_cmd_postfix": ") ",
     "delete_cmd_prefix": "rm(",
     "library": "var_list.r",
     "varRefreshCmd": "cat(var_dic_list()) "
    }
   },
   "types_to_exclude": [
    "module",
    "function",
    "builtin_function_or_method",
    "instance",
    "_Feature"
   ],
   "window_display": false
  }
 },
 "nbformat": 4,
 "nbformat_minor": 1
}
