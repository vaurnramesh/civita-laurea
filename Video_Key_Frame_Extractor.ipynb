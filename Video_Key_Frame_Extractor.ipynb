{
 "cells": [
  {
   "cell_type": "markdown",
   "metadata": {
    "toc": true
   },
   "source": [
    "<h1>Table of Contents<span class=\"tocSkip\"></span></h1>\n",
    "<div class=\"toc\"><ul class=\"toc-item\"></ul></div>"
   ]
  },
  {
   "cell_type": "code",
   "execution_count": null,
   "metadata": {},
   "outputs": [],
   "source": [
    "# Install katna and moviepy in Conda Environment\n",
    "# !pip install katna\n",
    "# !pip install moviepy\n",
    "\n",
    "from moviepy.editor import *\n",
    "import moviepy\n",
    "import os\n",
    "from Katna.video import Video\n",
    "from Katna.writer import KeyFrameDiskWriter\n",
    "import ntpath\n",
    "import shutil \n",
    "import tempfile"
   ]
  },
  {
   "cell_type": "code",
   "execution_count": null,
   "metadata": {},
   "outputs": [],
   "source": [
    "# temporary directory created \n",
    "temp_file_dir=tempfile.mkdtemp(prefix='temp_filechunks')\n",
    "\n",
    "print(\"Path for the temporary directory created\"+temp_file_dir)"
   ]
  },
  {
   "cell_type": "code",
   "execution_count": null,
   "metadata": {},
   "outputs": [],
   "source": [
    "input_directory=r'C:\\Users\\subha\\Downloads\\input'\n",
    "output_directory=r'C:\\Users\\subha\\Downloads\\test_images'\n",
    "\n",
    "video_folder_path =input_directory \n",
    "for i in os.listdir(video_folder_path):\n",
    "  clip = VideoFileClip(video_folder_path+\"/\"+i)\n",
    "  file_name=i.split(\".\")[0]\n",
    "  duration = clip.duration\n",
    "  print(duration)\n",
    "  k_partition=duration/300 # video is being divided into nearly 5 minutes segments \n",
    "#segmentation of video begins\n",
    "\n",
    "  if(round(k_partition)>0):\n",
    "    start=0\n",
    "    for j in range(1,(round(k_partition)+1)):\n",
    "      #divide the video\n",
    "      limit=j*300\n",
    "      print(start) # starting timing of video subclip\n",
    "      print(limit) # ending time of the video subclip\n",
    "      if(limit<=duration):\n",
    "       moviepy.video.io.ffmpeg_tools.ffmpeg_extract_subclip((video_folder_path+\"/\"+i),t1=start,t2=limit,targetname= temp_file_dir +\"\\\\\"+file_name+\"_\"+str(j)+\".mp4\")\n",
    "       start=(j*300)\n",
    "      else:\n",
    "       limit=duration       \n",
    "  else:\n",
    "     shutil.copy(video_folder_path+\"/\"+i, temp_file_dir)\n",
    "    \n",
    " "
   ]
  },
  {
   "cell_type": "code",
   "execution_count": null,
   "metadata": {},
   "outputs": [],
   "source": [
    "#implementation of katna\n",
    "if __name__ == \"__main__\":\n",
    "  vd = Video()\n",
    "  #number of key-frame images to be extracted\n",
    "  no_of_frames_to_return = 7\n",
    "  videos_dir_path =temp_file_dir\n",
    "  diskwriter = KeyFrameDiskWriter(location=output_directory)\n",
    "  vd.extract_keyframes_from_videos_dir(\n",
    "       no_of_frames=no_of_frames_to_return, dir_path=videos_dir_path,\n",
    "       writer=diskwriter\n",
    "  )"
   ]
  },
  {
   "cell_type": "code",
   "execution_count": null,
   "metadata": {},
   "outputs": [],
   "source": [
    "shutil.rmtree(temp_file_dir)"
   ]
  },
  {
   "cell_type": "code",
   "execution_count": null,
   "metadata": {},
   "outputs": [],
   "source": []
  }
 ],
 "metadata": {
  "kernelspec": {
   "display_name": "Python 3",
   "language": "python",
   "name": "python3"
  },
  "language_info": {
   "codemirror_mode": {
    "name": "ipython",
    "version": 3
   },
   "file_extension": ".py",
   "mimetype": "text/x-python",
   "name": "python",
   "nbconvert_exporter": "python",
   "pygments_lexer": "ipython3",
   "version": "3.7.4"
  },
  "toc": {
   "base_numbering": 1,
   "nav_menu": {},
   "number_sections": false,
   "sideBar": true,
   "skip_h1_title": true,
   "title_cell": "Table of Contents",
   "title_sidebar": "Contents",
   "toc_cell": true,
   "toc_position": {},
   "toc_section_display": true,
   "toc_window_display": false
  },
  "varInspector": {
   "cols": {
    "lenName": 16,
    "lenType": 16,
    "lenVar": 40
   },
   "kernels_config": {
    "python": {
     "delete_cmd_postfix": "",
     "delete_cmd_prefix": "del ",
     "library": "var_list.py",
     "varRefreshCmd": "print(var_dic_list())"
    },
    "r": {
     "delete_cmd_postfix": ") ",
     "delete_cmd_prefix": "rm(",
     "library": "var_list.r",
     "varRefreshCmd": "cat(var_dic_list()) "
    }
   },
   "types_to_exclude": [
    "module",
    "function",
    "builtin_function_or_method",
    "instance",
    "_Feature"
   ],
   "window_display": false
  }
 },
 "nbformat": 4,
 "nbformat_minor": 4
}
